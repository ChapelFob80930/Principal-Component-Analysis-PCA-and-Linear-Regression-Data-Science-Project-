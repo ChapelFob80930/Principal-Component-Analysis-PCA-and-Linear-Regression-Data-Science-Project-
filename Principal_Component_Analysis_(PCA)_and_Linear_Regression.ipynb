{
  "nbformat": 4,
  "nbformat_minor": 0,
  "metadata": {
    "colab": {
      "provenance": [],
      "authorship_tag": "ABX9TyOIgdM9QKYUGjyhkTHzl2Gg",
      "include_colab_link": true
    },
    "kernelspec": {
      "name": "python3",
      "display_name": "Python 3"
    },
    "language_info": {
      "name": "python"
    }
  },
  "cells": [
    {
      "cell_type": "markdown",
      "metadata": {
        "id": "view-in-github",
        "colab_type": "text"
      },
      "source": [
        "<a href=\"https://colab.research.google.com/github/ChapelFob80930/Principal-Component-Analysis-PCA-and-Linear-Regression-Data-Science-Project-/blob/main/Principal_Component_Analysis_(PCA)_and_Linear_Regression.ipynb\" target=\"_parent\"><img src=\"https://colab.research.google.com/assets/colab-badge.svg\" alt=\"Open In Colab\"/></a>"
      ]
    },
    {
      "cell_type": "code",
      "execution_count": 1,
      "metadata": {
        "id": "kHCgcSKbS5t4"
      },
      "outputs": [],
      "source": [
        "import numpy as np\n",
        "import pandas as pd\n",
        "\n",
        "url = \"https://raw.githubusercontent.com/ChapelFob80930/Principal-Component-Analysis-PCA-and-Linear-Regression-Data-Science-Project-/refs/heads/main/Tetuan-PC.csv\"\n",
        "dataset = pd.read_csv(url)"
      ]
    },
    {
      "cell_type": "code",
      "source": [
        "print(dataset.head())"
      ],
      "metadata": {
        "id": "5GqBUSmaVGaS",
        "outputId": "1d3f47ea-2121-47f1-e0c0-1f05fee81ad5",
        "colab": {
          "base_uri": "https://localhost:8080/"
        }
      },
      "execution_count": 2,
      "outputs": [
        {
          "output_type": "stream",
          "name": "stdout",
          "text": [
            "             DateTime  Temperature  Humidity  WindSpeed  GenDiffFlows  \\\n",
            "24625  6/21/2017 0:00        21.86      77.0      0.081         0.073   \n",
            "24626  6/21/2017 0:10        21.91      76.0      0.077         0.077   \n",
            "24627  6/21/2017 0:20        21.96      75.5      0.081         0.055   \n",
            "24628  6/21/2017 0:30        21.83      75.1      0.078         0.062   \n",
            "24629  6/21/2017 0:40        21.60      75.8      0.075         0.048   \n",
            "\n",
            "       DiffFlows      PCZone1      PCZone2      PCZone3  \n",
            "24625      0.111  44554.17219  24750.93555  26980.43077  \n",
            "24626      0.096  44249.00662  24612.47401  26631.87692  \n",
            "24627      0.096  43753.11258  24339.29314  26141.53846  \n",
            "24628      0.163  43079.20530  24208.31601  26052.92308  \n",
            "24629      0.145  42634.17219  23927.65073  25887.50769  \n"
          ]
        }
      ]
    },
    {
      "cell_type": "code",
      "source": [],
      "metadata": {
        "id": "mbnlm15sVUsq"
      },
      "execution_count": null,
      "outputs": []
    }
  ]
}